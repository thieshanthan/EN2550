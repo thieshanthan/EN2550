{
 "metadata": {
  "language_info": {
   "codemirror_mode": {
    "name": "ipython",
    "version": 3
   },
   "file_extension": ".py",
   "mimetype": "text/x-python",
   "name": "python",
   "nbconvert_exporter": "python",
   "pygments_lexer": "ipython3",
   "version": "3.8.5-final"
  },
  "orig_nbformat": 2,
  "kernelspec": {
   "name": "python3",
   "display_name": "Python 3",
   "language": "python"
  }
 },
 "nbformat": 4,
 "nbformat_minor": 2,
 "cells": [
  {
   "source": [
    "# Assignment a04: Neural Networks\n",
    "A. Thieshanthan, 180641N"
   ],
   "cell_type": "markdown",
   "metadata": {}
  },
  {
   "cell_type": "code",
   "execution_count": 5,
   "metadata": {},
   "outputs": [],
   "source": [
    "import tensorflow as tf \n",
    "from tensorflow.keras.utils import to_categorical\n",
    "from tensorflow.keras.datasets import cifar10\n",
    "import numpy as np \n",
    "import matplotlib.pyplot as plt \n",
    "import time"
   ]
  },
  {
   "cell_type": "code",
   "execution_count": 6,
   "metadata": {},
   "outputs": [],
   "source": [
    "def to_tensor(ar):\n",
    "    ar = tf.convert_to_tensor(ar, dtype=tf.float32)\n",
    "    return ar"
   ]
  },
  {
   "cell_type": "code",
   "execution_count": 7,
   "metadata": {},
   "outputs": [
    {
     "output_type": "stream",
     "name": "stdout",
     "text": [
      "[PhysicalDevice(name='/physical_device:GPU:0', device_type='GPU')]\n"
     ]
    }
   ],
   "source": [
    "print(\n",
    "    tf.config.list_physical_devices('GPU'))"
   ]
  },
  {
   "source": [
    "## 1. Linear Classifier\n"
   ],
   "cell_type": "markdown",
   "metadata": {}
  },
  {
   "cell_type": "code",
   "execution_count": 8,
   "metadata": {},
   "outputs": [
    {
     "output_type": "stream",
     "name": "stdout",
     "text": [
      "x_train shape (50000, 32, 32, 3)\n",
      "y_train shape (50000, 1)\n",
      "x_train new shape (3072, 50000)\n",
      "y_train new shape (10, 50000)\n"
     ]
    }
   ],
   "source": [
    "# Loading and Preparing the dataset\n",
    "(x_train, y_train), (x_test, y_test) = cifar10.load_data()\n",
    "print('x_train shape', x_train.shape)\n",
    "print('y_train shape', y_train.shape)\n",
    "\n",
    "classes = len(np.unique(y_train))\n",
    "training_samples = x_train.shape[0]\n",
    "tesing_samples = x_test.shape[0]\n",
    "input_shape = 32*32*3 # Cifar 10\n",
    "\n",
    "# Normalizing\n",
    "x_train, x_test = x_train/255. , x_test/255.\n",
    "mean_image = np.mean(x_train, axis = 0)\n",
    "x_train -= mean_image\n",
    "x_test -= mean_image\n",
    "\n",
    "# one hot encoding\n",
    "y_train = to_categorical(y_train, num_classes=classes).T\n",
    "y_test = to_categorical(y_test, num_classes= classes).T\n",
    "\n",
    "#reshaping\n",
    "x_train = np.reshape(x_train, (training_samples, input_shape)).T #shape = 3072*50000\n",
    "x_test = np.reshape(x_test, (tesing_samples, input_shape)).T #shape = 3072*10000\n",
    "print('x_train new shape', x_train.shape)\n",
    "print('y_train new shape', y_train.shape)"
   ]
  },
  {
   "cell_type": "code",
   "execution_count": 9,
   "metadata": {},
   "outputs": [],
   "source": [
    "# converting to tensors\n",
    "x_train = to_tensor(x_train)\n",
    "y_train = to_tensor(y_train)\n",
    "x_test = to_tensor(x_test)\n",
    "y_test = to_tensor(y_test)"
   ]
  },
  {
   "cell_type": "code",
   "execution_count": 10,
   "metadata": {},
   "outputs": [
    {
     "output_type": "stream",
     "name": "stdout",
     "text": [
      "w1 shape:  (10, 3072)\nb1 shape:  (10, 1)\n"
     ]
    }
   ],
   "source": [
    "#parameters\n",
    "std = 1e-5\n",
    "w1 = to_tensor(np.random.randn(classes, input_shape).astype(np.float32) * std)\n",
    "b1 = to_tensor(np.zeros((classes, 1)).astype(np.float32))\n",
    "print('w1 shape: ', w1.shape)\n",
    "print('b1 shape: ', b1.shape)\n",
    "batch_size = training_samples\n",
    "iterations = 300\n",
    "learning_rate = 0.015\n",
    "learning_rate_decay = 0\n",
    "reg = 0\n",
    "loss_history = []\n",
    "train_acc_history = []\n",
    "test_loss = []\n",
    "val_acc_hisory = []\n",
    "seed = 0\n",
    "rng = np.random.default_rng(seed=seed)"
   ]
  },
  {
   "cell_type": "code",
   "execution_count": 11,
   "metadata": {},
   "outputs": [
    {
     "output_type": "stream",
     "name": "stdout",
     "text": [
      "epoch: 1      loss: 1.0000     Test loss: 0.9560\n",
      "epoch: 51      loss: 0.8029     Test loss: 0.8031\n",
      "epoch: 101      loss: 0.7912     Test loss: 0.7930\n",
      "epoch: 151      loss: 0.7871     Test loss: 0.7901\n",
      "epoch: 201      loss: 0.7845     Test loss: 0.7885\n",
      "epoch: 251      loss: 0.7826     Test loss: 0.7875\n",
      "After 300 epochs: \n",
      "Train loss: 0.781186, Test loss: 0.786779\n",
      "time taken: 9.66 seconds\n"
     ]
    }
   ],
   "source": [
    "# Training\n",
    "t0 = time.time()\n",
    "for t in range(iterations):\n",
    "    indices = np.arange(training_samples)\n",
    "    rng.shuffle(indices)\n",
    "\n",
    "    #forward pass\n",
    "    y_hat = tf.matmul(w1, x_train) + b1\n",
    "    #mean squared error loss\n",
    "    loss = tf.math.reduce_sum((y_train - y_hat)**2).numpy() / batch_size\n",
    "    loss = float(np.squeeze(loss))\n",
    "    loss_history.append(loss)\n",
    "    # accuracy = 1 - loss\n",
    "    # train_acc_history.append(accuracy)\n",
    "    \n",
    "    # backward pass\n",
    "    dw1 = tf.matmul(y_hat - y_train, x_train, transpose_b=True) * (2/batch_size)\n",
    "    I = tf.ones((batch_size, 1))\n",
    "    db1 = tf.matmul(y_hat - y_train, I) * (2/batch_size)\n",
    "    \n",
    "    # gradient descent\n",
    "    w1 = w1 - learning_rate * dw1\n",
    "    b1 = b1 - learning_rate * db1\n",
    "\n",
    "    # testing\n",
    "    y_hat_test = tf.matmul(w1, x_test) + b1\n",
    "    loss_test = tf.math.reduce_sum((y_test - y_hat_test)**2).numpy() / x_test.shape[1]\n",
    "    loss_test = np.squeeze(loss_test)\n",
    "    test_loss.append(loss_test)\n",
    "\n",
    "    if t % 50 == 0:\n",
    "        print('epoch: '+ str(t + 1), end = '      ')\n",
    "        print('loss: %.4f' % (loss_history[t]), end = '     ')\n",
    "        print('Test loss: %.4f' % (test_loss[t]))\n",
    "print('After %d epochs: ' % (iterations))\n",
    "print('Train loss: %f, Test loss: %f' % (loss_history[-1], test_loss[-1]))\n",
    "t1 = time.time()\n",
    "print('time taken: %.2f seconds'  % (t1-t0))"
   ]
  },
  {
   "cell_type": "code",
   "execution_count": 17,
   "metadata": {},
   "outputs": [
    {
     "output_type": "stream",
     "name": "stderr",
     "text": [
      "Clipping input data to the valid range for imshow with RGB data ([0..1] for floats or [0..255] for integers).\n",
      "Clipping input data to the valid range for imshow with RGB data ([0..1] for floats or [0..255] for integers).\n",
      "Clipping input data to the valid range for imshow with RGB data ([0..1] for floats or [0..255] for integers).\n",
      "Clipping input data to the valid range for imshow with RGB data ([0..1] for floats or [0..255] for integers).\n",
      "Clipping input data to the valid range for imshow with RGB data ([0..1] for floats or [0..255] for integers).\n",
      "Clipping input data to the valid range for imshow with RGB data ([0..1] for floats or [0..255] for integers).\n",
      "Clipping input data to the valid range for imshow with RGB data ([0..1] for floats or [0..255] for integers).\n",
      "Clipping input data to the valid range for imshow with RGB data ([0..1] for floats or [0..255] for integers).\n",
      "Clipping input data to the valid range for imshow with RGB data ([0..1] for floats or [0..255] for integers).\n",
      "Clipping input data to the valid range for imshow with RGB data ([0..1] for floats or [0..255] for integers).\n"
     ]
    },
    {
     "output_type": "error",
     "ename": "TypeError",
     "evalue": "imshow() missing 1 required positional argument: 'X'",
     "traceback": [
      "\u001b[1;31m---------------------------------------------------------------------------\u001b[0m",
      "\u001b[1;31mTypeError\u001b[0m                                 Traceback (most recent call last)",
      "\u001b[1;32m<ipython-input-17-7da929306956>\u001b[0m in \u001b[0;36m<module>\u001b[1;34m\u001b[0m\n\u001b[0;32m      5\u001b[0m     \u001b[0mfig\u001b[0m\u001b[1;33m,\u001b[0m \u001b[0max\u001b[0m \u001b[1;33m=\u001b[0m \u001b[0mplt\u001b[0m\u001b[1;33m.\u001b[0m\u001b[0msubplots\u001b[0m\u001b[1;33m(\u001b[0m\u001b[1;36m2\u001b[0m\u001b[1;33m,\u001b[0m\u001b[1;36m5\u001b[0m\u001b[1;33m)\u001b[0m\u001b[1;33m\u001b[0m\u001b[1;33m\u001b[0m\u001b[0m\n\u001b[0;32m      6\u001b[0m     \u001b[0max\u001b[0m\u001b[1;33m[\u001b[0m\u001b[0mi\u001b[0m\u001b[1;33m//\u001b[0m\u001b[1;36m5\u001b[0m\u001b[1;33m,\u001b[0m \u001b[0mi\u001b[0m\u001b[1;33m%\u001b[0m\u001b[1;36m5\u001b[0m\u001b[1;33m]\u001b[0m\u001b[1;33m.\u001b[0m\u001b[0mimshow\u001b[0m\u001b[1;33m(\u001b[0m\u001b[0mw_image\u001b[0m\u001b[1;33m[\u001b[0m\u001b[1;33m:\u001b[0m\u001b[1;33m,\u001b[0m\u001b[1;33m:\u001b[0m\u001b[1;33m,\u001b[0m\u001b[1;33m:\u001b[0m\u001b[1;33m,\u001b[0m\u001b[0mi\u001b[0m\u001b[1;33m]\u001b[0m\u001b[1;33m,\u001b[0m \u001b[0mcmap\u001b[0m \u001b[1;33m=\u001b[0m \u001b[1;34m'gray'\u001b[0m\u001b[1;33m)\u001b[0m\u001b[1;33m\u001b[0m\u001b[1;33m\u001b[0m\u001b[0m\n\u001b[1;32m----> 7\u001b[1;33m \u001b[0mplt\u001b[0m\u001b[1;33m.\u001b[0m\u001b[0mimshow\u001b[0m\u001b[1;33m(\u001b[0m\u001b[1;33m)\u001b[0m\u001b[1;33m\u001b[0m\u001b[1;33m\u001b[0m\u001b[0m\n\u001b[0m",
      "\u001b[1;31mTypeError\u001b[0m: imshow() missing 1 required positional argument: 'X'"
     ]
    }
   ],
   "source": [
    "# Displaying W as 10 images\n",
    "w_image = w1.numpy().T\n",
    "w_image = np.reshape(w_image, (32,32,3,10))\n",
    "for i in range(10):\n",
    "    fig, ax = plt.subplots(2,5)\n",
    "    ax[i//5, i%5].imshow(w_image[:,:,:,i], cmap = 'gray')\n",
    "plt.imshow()"
   ]
  },
  {
   "source": [
    "## 2. Two layer fully connected network\n",
    "### Specifications\n",
    "    * 200 hidden units\n",
    "    * Sigmoid activation for hidden layer\n",
    "    * No output layer activation"
   ],
   "cell_type": "markdown",
   "metadata": {}
  },
  {
   "cell_type": "code",
   "execution_count": 12,
   "metadata": {},
   "outputs": [],
   "source": [
    "def sigmoid(z):\n",
    "    return 1 / (1 + tf.math.exp(-z))"
   ]
  },
  {
   "cell_type": "code",
   "execution_count": 20,
   "metadata": {},
   "outputs": [
    {
     "output_type": "stream",
     "name": "stdout",
     "text": [
      "w1 shape:  (10, 3072)\nb1 shape:  (10, 1)\nw2 shape:  (10, 10)\nb2 shape:  (10, 1)\n"
     ]
    }
   ],
   "source": [
    "# Parameters\n",
    "H = 10\n",
    "std = 1e-4\n",
    "w1 = to_tensor(np.random.randn(H, input_shape).astype(np.float32) * std)\n",
    "b1 = to_tensor(np.zeros((H, 1)))\n",
    "w2 = to_tensor(np.random.randn(classes, H).astype(np.float32) * std)\n",
    "b2 = to_tensor(np.zeros((classes, 1)))\n",
    "print('w1 shape: ', w1.shape)\n",
    "print('b1 shape: ', b1.shape)\n",
    "print('w2 shape: ', w2.shape)\n",
    "print('b2 shape: ', b2.shape)\n",
    "\n",
    "batch_size_2 = training_samples\n",
    "iteration_2 = 300\n",
    "learning_rate_2 = 0.01\n",
    "learning_rate_decay_2 = 0\n",
    "reg_2 = 0\n",
    "loss_history_2 = []\n",
    "train_acc_history_2 = []\n",
    "val_acc_hisory_2 = []\n",
    "seed = 0\n",
    "rng = np.random.default_rng(seed=seed)"
   ]
  },
  {
   "cell_type": "code",
   "execution_count": 21,
   "metadata": {},
   "outputs": [
    {
     "output_type": "stream",
     "name": "stdout",
     "text": [
      "epoch: 1\n",
      "loss: 1.00011265625\n",
      "epoch: 51\n",
      "loss: 0.9000703125\n",
      "epoch: 101\n",
      "loss: 0.9\n",
      "epoch: 151\n",
      "loss: 0.89999984375\n",
      "epoch: 201\n",
      "loss: 0.899999765625\n",
      "epoch: 251\n",
      "loss: 0.89999953125\n",
      "final loss after 300 epochs : 0.899999\n",
      "time taken: 7.97094464302063\n"
     ]
    }
   ],
   "source": [
    "# Training\n",
    "t0 = time.time()\n",
    "for t in range(iterations):\n",
    "    indices = np.arange(training_samples)\n",
    "    rng.shuffle(indices)\n",
    "\n",
    "    #forward pass\n",
    "    z1 = tf.matmul(w1, x_train) + b1\n",
    "    a1 = sigmoid(z1)\n",
    "    z2 = tf.matmul(w2, a1) + b2\n",
    "    y_hat = z2 #no activation\n",
    "    #mean squared error loss\n",
    "    loss = tf.math.reduce_sum((y_train - y_hat)**2).numpy() / batch_size\n",
    "    loss = float(np.squeeze(loss))\n",
    "    loss_history_2.append(loss)\n",
    "    \n",
    "\n",
    "    # backward pass\n",
    "    # dz2 = (2/batch_size) * (y_hat-y_train)\n",
    "    # dw2 = tf.matmul(dz2, a1, transpose_b= True)\n",
    "    # db2 = np.sum(dz2.numpy(), axis = 1, keepdims=True)\n",
    "    # da1 = tf.matmul(w2, dz2, transpose_a=True)\n",
    "    # dz1 = da1 * a1*(1-a1)\n",
    "    # dw1 = tf.matmul(dz1, x_train, transpose_b= True)\n",
    "    # db1 = np.sum(dz1.numpy(), axis = 1, keepdims=True)\n",
    "    dz2 =  (y_hat-y_train)\n",
    "    dw2 = (2/batch_size) * tf.matmul(dz2, a1, transpose_b= True) \n",
    "    db2 = (2/batch_size) * np.sum(dz2.numpy(), axis = 1, keepdims=True)\n",
    "    da1 = tf.matmul(w2, dz2, transpose_a=True)\n",
    "    dz1 = da1 * a1*(1-a1)\n",
    "    dw1 = (2/batch_size) *tf.matmul(dz1, x_train, transpose_b= True)\n",
    "    db1 = (2/batch_size) *np.sum(dz1.numpy(), axis = 1, keepdims=True)\n",
    "    # gradient descent\n",
    "    w2 = w2 - learning_rate_2 * dw2\n",
    "    b2 = b2 - learning_rate_2 * db2\n",
    "    w1 = w1 - learning_rate_2 * dw1\n",
    "    b1 = b1 - learning_rate_2 * db1\n",
    "    if t % 50 == 0:\n",
    "        print('epoch: '+ str(t + 1))\n",
    "        print('loss: ' + str(loss_history_2[t]))\n",
    "print('final loss after %d epochs : %f' % (iterations , loss_history_2[-1]))\n",
    "t1 = time.time()\n",
    "print('time taken: ' + str(t1-t0))"
   ]
  },
  {
   "source": [
    "## 3. Stochastic Gradient Descent"
   ],
   "cell_type": "markdown",
   "metadata": {}
  },
  {
   "cell_type": "code",
   "execution_count": null,
   "metadata": {},
   "outputs": [],
   "source": []
  },
  {
   "source": [
    "## 4. Convolutional Neural Network"
   ],
   "cell_type": "markdown",
   "metadata": {}
  },
  {
   "cell_type": "code",
   "execution_count": 2,
   "metadata": {},
   "outputs": [],
   "source": [
    "from tensorflow.keras.models import Sequential"
   ]
  },
  {
   "cell_type": "code",
   "execution_count": null,
   "metadata": {},
   "outputs": [],
   "source": []
  }
 ]
}