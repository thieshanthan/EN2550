{
 "metadata": {
  "language_info": {
   "codemirror_mode": {
    "name": "ipython",
    "version": 3
   },
   "file_extension": ".py",
   "mimetype": "text/x-python",
   "name": "python",
   "nbconvert_exporter": "python",
   "pygments_lexer": "ipython3",
   "version": "3.8.5-final"
  },
  "orig_nbformat": 2,
  "kernelspec": {
   "name": "python3",
   "display_name": "Python 3",
   "language": "python"
  }
 },
 "nbformat": 4,
 "nbformat_minor": 2,
 "cells": [
  {
   "source": [
    "# Assignment a04: Neural Networks\n",
    "A. Thieshanthan, 180641N"
   ],
   "cell_type": "markdown",
   "metadata": {}
  },
  {
   "cell_type": "code",
   "execution_count": 20,
   "metadata": {},
   "outputs": [],
   "source": [
    "import tensorflow as tf \n",
    "from tensorflow.keras.utils import to_categorical\n",
    "from tensorflow.keras.datasets import cifar10\n",
    "import numpy as np \n",
    "import matplotlib.pyplot as plt \n",
    "import time"
   ]
  },
  {
   "cell_type": "code",
   "execution_count": 74,
   "metadata": {},
   "outputs": [],
   "source": [
    "def to_tensor(ar):\n",
    "    ar = tf.convert_to_tensor(ar, dtype=tf.float32)\n",
    "    return ar"
   ]
  },
  {
   "cell_type": "code",
   "execution_count": 67,
   "metadata": {},
   "outputs": [
    {
     "output_type": "stream",
     "name": "stdout",
     "text": [
      "Num GPUs Available:  1\n"
     ]
    }
   ],
   "source": [
    "print(\"Num GPUs Available: \", len(tf.config.list_physical_devices('GPU')))"
   ]
  },
  {
   "source": [
    "## 1. Linear Classifier\n"
   ],
   "cell_type": "markdown",
   "metadata": {}
  },
  {
   "cell_type": "code",
   "execution_count": 75,
   "metadata": {},
   "outputs": [
    {
     "output_type": "stream",
     "name": "stdout",
     "text": [
      "x_train shape (50000, 32, 32, 3)\n",
      "y_train shape (50000, 1)\n",
      "x_train new shape (3072, 50000)\n",
      "y_train new shape (10, 50000)\n"
     ]
    }
   ],
   "source": [
    "# Loading and Preparing the dataset\n",
    "(x_train, y_train), (x_test, y_test) = cifar10.load_data()\n",
    "print('x_train shape', x_train.shape)\n",
    "print('y_train shape', y_train.shape)\n",
    "\n",
    "classes = len(np.unique(y_train))\n",
    "training_samples = x_train.shape[0]\n",
    "tesing_samples = x_test.shape[0]\n",
    "input_shape = 32*32*3 # Cifar 10\n",
    "\n",
    "# Normalizing\n",
    "x_train, x_test = x_train/255. , x_test/255.\n",
    "mean_image = np.mean(x_train, axis = 0)\n",
    "x_train -= mean_image\n",
    "x_test -= mean_image\n",
    "\n",
    "# one hot encoding\n",
    "y_train = to_categorical(y_train, num_classes=classes).T\n",
    "y_test = to_categorical(y_test, num_classes= classes).T\n",
    "\n",
    "#reshaping\n",
    "x_train = np.reshape(x_train, (training_samples, input_shape)).T #shape = 3072*50000\n",
    "x_test = np.reshape(x_test, (tesing_samples, input_shape)).T #shape = 3072*10000\n",
    "print('x_train new shape', x_train.shape)\n",
    "print('y_train new shape', y_train.shape)"
   ]
  },
  {
   "cell_type": "code",
   "execution_count": 76,
   "metadata": {},
   "outputs": [],
   "source": [
    "# converting to tensors\n",
    "x_train = to_tensor(x_train)\n",
    "y_train = to_tensor(y_train)\n",
    "x_test = to_tensor(x_test)\n",
    "y_test = to_tensor(y_test)"
   ]
  },
  {
   "cell_type": "code",
   "execution_count": 99,
   "metadata": {},
   "outputs": [
    {
     "output_type": "stream",
     "name": "stdout",
     "text": [
      "w1 shape:  (10, 3072)\nb1 shape:  (10, 1)\n"
     ]
    }
   ],
   "source": [
    "#parameters\n",
    "std = 1e-5\n",
    "w1 = to_tensor(np.random.randn(classes, input_shape) * std)\n",
    "b1 = to_tensor(np.zeros((classes, 1)))\n",
    "print('w1 shape: ', w1.shape)\n",
    "print('b1 shape: ', b1.shape)\n",
    "batch_size = training_samples\n",
    "iterations = 300\n",
    "learning_rate = 0.015\n",
    "learning_rate_decay = 0\n",
    "reg = 0\n",
    "loss_history = []\n",
    "train_acc_history = []\n",
    "val_acc_hisory = []\n",
    "seed = 0\n",
    "rng = np.random.default_rng(seed=seed)"
   ]
  },
  {
   "cell_type": "code",
   "execution_count": 100,
   "metadata": {},
   "outputs": [
    {
     "output_type": "stream",
     "name": "stdout",
     "text": [
      "epoch: 1\n",
      "loss: 0.99999140625\n",
      "epoch: 51\n",
      "loss: 0.802895390625\n",
      "epoch: 101\n",
      "loss: 0.79119015625\n",
      "epoch: 151\n",
      "loss: 0.787059609375\n",
      "epoch: 201\n",
      "loss: 0.784476484375\n",
      "epoch: 251\n",
      "loss: 0.7826096875\n",
      "final loss after 300 epochs : 0.781185\n",
      "time taken: 6.162921905517578\n"
     ]
    }
   ],
   "source": [
    "# Training\n",
    "t0 = time.time()\n",
    "for t in range(iterations):\n",
    "    indices = np.arange(training_samples)\n",
    "    rng.shuffle(indices)\n",
    "\n",
    "    #forward pass\n",
    "    y_hat = tf.matmul(w1, x_train) + b1\n",
    "    #mean squared error loss\n",
    "    loss = tf.math.reduce_sum((y_train - y_hat)**2).numpy() / batch_size\n",
    "    loss = float(np.squeeze(loss))\n",
    "    loss_history.append(loss)\n",
    "    accuracy = 1 - loss\n",
    "    train_acc_history.append(accuracy)\n",
    "\n",
    "    # backward pass\n",
    "    dw1 = tf.matmul(y_hat - y_train, x_train, transpose_b=True) * (2/batch_size)\n",
    "    I = tf.ones((batch_size, 1))\n",
    "    db1 = tf.matmul(y_hat - y_train, I) * (2/batch_size)\n",
    "    \n",
    "    # gradient descent\n",
    "    w1 = w1 - learning_rate * dw1\n",
    "    b1 = b1 - learning_rate * db1\n",
    "    if t % 50 == 0:\n",
    "        print('epoch: '+ str(t + 1))\n",
    "        print('loss: ' + str(loss_history[t]))\n",
    "print('final loss after %d epochs : %f' % (iterations , loss_history[-1]))\n",
    "t1 = time.time()\n",
    "print('time taken: ' + str(t1-t0))"
   ]
  },
  {
   "source": [
    "## 2. Two layer fully connected network\n",
    "### Specifications\n",
    "    * 200 hidden units\n",
    "    * Sigmoid activation for hidden layer\n",
    "    * No output layer activation"
   ],
   "cell_type": "markdown",
   "metadata": {}
  },
  {
   "cell_type": "code",
   "execution_count": 84,
   "metadata": {},
   "outputs": [],
   "source": [
    "def sigmoid(z):\n",
    "    return 1 / (1 + tf.math.exp(-z))"
   ]
  },
  {
   "cell_type": "code",
   "execution_count": 95,
   "metadata": {},
   "outputs": [
    {
     "output_type": "stream",
     "name": "stdout",
     "text": [
      "w1 shape:  (200, 3072)\nb1 shape:  (200, 1)\nw2 shape:  (10, 200)\nb2 shape:  (10, 1)\n"
     ]
    }
   ],
   "source": [
    "# Parameters\n",
    "H = 200\n",
    "std = 1e-4\n",
    "w1 = to_tensor(np.random.randn(H, input_shape) * std)\n",
    "b1 = to_tensor(np.zeros((H, 1)))\n",
    "w2 = to_tensor(np.random.randn(classes, H) * std)\n",
    "b2 = to_tensor(np.zeros((classes, 1)))\n",
    "print('w1 shape: ', w1.shape)\n",
    "print('b1 shape: ', b1.shape)\n",
    "print('w2 shape: ', w2.shape)\n",
    "print('b2 shape: ', b2.shape)\n",
    "\n",
    "batch_size_2 = training_samples\n",
    "iteration_2 = 300\n",
    "learning_rate_2 = 0.2\n",
    "learning_rate_decay_2 = 0\n",
    "reg_2 = 0\n",
    "loss_history_2 = []\n",
    "train_acc_history_2 = []\n",
    "val_acc_hisory_2 = []\n",
    "seed = 0\n",
    "rng = np.random.default_rng(seed=seed)"
   ]
  },
  {
   "cell_type": "code",
   "execution_count": 96,
   "metadata": {},
   "outputs": [
    {
     "output_type": "stream",
     "name": "stdout",
     "text": [
      "epoch: 1\n",
      "loss: 0.999518828125\n",
      "epoch: 51\n",
      "loss: 0.900000078125\n",
      "epoch: 101\n",
      "loss: 0.900000078125\n",
      "epoch: 151\n",
      "loss: 0.900000078125\n",
      "epoch: 201\n",
      "loss: 0.900000078125\n",
      "epoch: 251\n",
      "loss: 0.9\n",
      "final loss after 300 epochs : 0.900000\n",
      "time taken: 80.33636474609375\n"
     ]
    }
   ],
   "source": [
    "# Training\n",
    "t0 = time.time()\n",
    "for t in range(iterations):\n",
    "    indices = np.arange(training_samples)\n",
    "    rng.shuffle(indices)\n",
    "\n",
    "    #forward pass\n",
    "    z1 = tf.matmul(w1, x_train) + b1\n",
    "    a1 = sigmoid(z1)\n",
    "    z2 = tf.matmul(w2, a1) + b2\n",
    "    y_hat = z2 #no activation\n",
    "    #mean squared error loss\n",
    "    loss = tf.math.reduce_sum((y_train - y_hat)**2).numpy() / batch_size\n",
    "    loss = float(np.squeeze(loss))\n",
    "    loss_history_2.append(loss)\n",
    "    accuracy_2 = 1 - loss\n",
    "    train_acc_history_2.append(accuracy)\n",
    "\n",
    "    # backward pass\n",
    "    dz2 = (2/batch_size) * (y_hat-y_train)\n",
    "    dw2 = tf.matmul(dz2, a1, transpose_b= True)\n",
    "    db2 = np.sum(dz2.numpy(), axis = 1, keepdims=True)\n",
    "    da1 = tf.matmul(w2, dz2, transpose_a=True)\n",
    "    dz1 = da1 * a1*(1-a1)\n",
    "    dw1 = tf.matmul(dz1, x_train, transpose_b= True)\n",
    "    db1 = np.sum(dz1.numpy(), axis = 1, keepdims=True)\n",
    "    \n",
    "    # gradient descent\n",
    "    w2 = w2 - learning_rate_2 * dw2\n",
    "    b2 = b2 - learning_rate_2 * db2\n",
    "    w1 = w1 - learning_rate_2 * dw1\n",
    "    b1 = b1 - learning_rate_2 * db1\n",
    "    if t % 50 == 0:\n",
    "        print('epoch: '+ str(t + 1))\n",
    "        print('loss: ' + str(loss_history_2[t]))\n",
    "print('final loss after %d epochs : %f' % (iterations , loss_history_2[-1]))\n",
    "t1 = time.time()\n",
    "print('time taken: ' + str(t1-t0))"
   ]
  },
  {
   "cell_type": "code",
   "execution_count": null,
   "metadata": {},
   "outputs": [],
   "source": []
  }
 ]
}