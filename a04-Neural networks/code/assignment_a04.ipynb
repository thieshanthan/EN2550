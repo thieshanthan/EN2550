{
 "metadata": {
  "language_info": {
   "codemirror_mode": {
    "name": "ipython",
    "version": 3
   },
   "file_extension": ".py",
   "mimetype": "text/x-python",
   "name": "python",
   "nbconvert_exporter": "python",
   "pygments_lexer": "ipython3",
   "version": "3.8.5-final"
  },
  "orig_nbformat": 2,
  "kernelspec": {
   "name": "python3",
   "display_name": "Python 3",
   "language": "python"
  }
 },
 "nbformat": 4,
 "nbformat_minor": 2,
 "cells": [
  {
   "source": [
    "# Assignment a04: Neural Networks\n",
    "A. Thieshanthan, 180641N"
   ],
   "cell_type": "markdown",
   "metadata": {}
  },
  {
   "cell_type": "code",
   "execution_count": 2,
   "metadata": {},
   "outputs": [],
   "source": [
    "import tensorflow as tf \n",
    "from tensorflow.keras.utils import to_categorical\n",
    "from tensorflow.keras.datasets import cifar10\n",
    "import numpy as np \n",
    "import matplotlib.pyplot as plt "
   ]
  },
  {
   "source": [
    "## 1. Linear Classifier\n"
   ],
   "cell_type": "markdown",
   "metadata": {}
  },
  {
   "cell_type": "code",
   "execution_count": 4,
   "metadata": {},
   "outputs": [
    {
     "output_type": "stream",
     "name": "stdout",
     "text": [
      "x_train shape (50000, 32, 32, 3)\n",
      "x_train new shape (50000, 3072)\n"
     ]
    }
   ],
   "source": [
    "# Loading and Preparing the dataset\n",
    "(x_train, y_train), (x_test, y_test) = cifar10.load_data()\n",
    "print('x_train shape', x_train.shape)\n",
    "\n",
    "classes = len(np.unique(y_train))\n",
    "training_samples = x_train.shape[0]\n",
    "tesing_samples = x_test.shape[0]\n",
    "input_shape = 32*32*3 # Cifar 10\n",
    "\n",
    "# Normalizing\n",
    "x_train, x_test = x_train/255. , x_test/255.\n",
    "mean_image = np.mean(x_train, axis = 0)\n",
    "x_train -= mean_image\n",
    "x_test -= mean_image\n",
    "\n",
    "# one hot encoding\n",
    "y_train = to_categorical(y_train, num_classes=classes)\n",
    "y_test = to_categorical(y_test, num_classes= classes)\n",
    "\n",
    "#reshaping\n",
    "x_train = np.reshape(x_train, (training_samples, input_shape)) #shape = 50000x3072\n",
    "x_test = np.reshape(x_test, (tesing_samples, input_shape))\n",
    "print('x_train new shape', x_train.shape)"
   ]
  },
  {
   "cell_type": "code",
   "execution_count": 10,
   "metadata": {},
   "outputs": [
    {
     "output_type": "stream",
     "name": "stdout",
     "text": [
      "w1 shape:  (3072, 10)\nb1 shape:  (10, 1)\n"
     ]
    }
   ],
   "source": [
    "# Parameters for training\n",
    "std = 1e-5\n",
    "w1 = np.random.randn(input_shape, classes)\n",
    "b1 = np.zeros((classes,1))\n",
    "print('w1 shape: ', w1.shape)\n",
    "print('b1 shape: ', b1.shape)\n",
    "batch_size = training_samples\n",
    "iterations = 300\n",
    "learning_rate = 0.01\n",
    "learning_rate_decay = 0\n",
    "reg = 0\n",
    "loss_history = []\n",
    "train_acc_history = []\n",
    "val_acc_hisory = []\n",
    "seed = 0\n",
    "rng = np.random.default_rng(seed=seed)"
   ]
  },
  {
   "cell_type": "code",
   "execution_count": null,
   "metadata": {},
   "outputs": [],
   "source": [
    "# Training\n",
    "for t in range(iterations):\n",
    "    indices = np.arange(training_samples)\n",
    "    rng.shuffle(indices)\n",
    "\n",
    "    #forward pass\n",
    "    y_hat = np.matmul(x_train, w1) + b1\n",
    "    #mean squared error loss\n",
    "    loss = np.sum((y - y_hat)**2) / batch_size\n",
    "    loss = float(np.squeeze(loss))\n",
    "    loss_history.append(loss)\n",
    "    \n"
   ]
  }
 ]
}